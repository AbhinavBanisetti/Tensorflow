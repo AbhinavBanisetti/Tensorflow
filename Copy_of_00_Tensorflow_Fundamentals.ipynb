{
  "nbformat": 4,
  "nbformat_minor": 0,
  "metadata": {
    "colab": {
      "name": "Copy of 00_Tensorflow_Fundamentals.ipynb",
      "provenance": []
    },
    "kernelspec": {
      "name": "python3",
      "display_name": "Python 3"
    }
  },
  "cells": [
    {
      "cell_type": "markdown",
      "metadata": {
        "id": "7wYYJy8RnRrh"
      },
      "source": [
        "##  I am going to learn Fundamental concepts of \"Tensors\" using Tensorflow\r\n"
      ]
    },
    {
      "cell_type": "markdown",
      "metadata": {
        "id": "AulwG9S6oC-P"
      },
      "source": [
        "### Intoduction to Tensors"
      ]
    },
    {
      "cell_type": "code",
      "metadata": {
        "colab": {
          "base_uri": "https://localhost:8080/"
        },
        "id": "ZN2MCuO0o6Ze",
        "outputId": "00194989-c762-407c-b7b2-4a81f3c9771d"
      },
      "source": [
        "# Import Tensorflow\r\n",
        "import tensorflow as tf\r\n",
        "print(tf.__version__)"
      ],
      "execution_count": null,
      "outputs": [
        {
          "output_type": "stream",
          "text": [
            "2.4.1\n"
          ],
          "name": "stdout"
        }
      ]
    },
    {
      "cell_type": "code",
      "metadata": {
        "colab": {
          "base_uri": "https://localhost:8080/"
        },
        "id": "OXGg9WIjpLuV",
        "outputId": "5e668069-e65f-4f9a-a1f0-384fe51b3050"
      },
      "source": [
        "# Creating tensors with tf.constant()\r\n",
        "scalar=tf.constant(7)\r\n",
        "scalar"
      ],
      "execution_count": null,
      "outputs": [
        {
          "output_type": "execute_result",
          "data": {
            "text/plain": [
              "<tf.Tensor: shape=(), dtype=int32, numpy=7>"
            ]
          },
          "metadata": {
            "tags": []
          },
          "execution_count": 3
        }
      ]
    },
    {
      "cell_type": "code",
      "metadata": {
        "colab": {
          "base_uri": "https://localhost:8080/"
        },
        "id": "5y52PGkmpo8n",
        "outputId": "0bdfdc5b-48d2-41ca-e05a-2236eb86fa86"
      },
      "source": [
        "# check the number of dimensions of tensor (ndim stands for no.of dimensions)\r\n",
        "scalar.ndim"
      ],
      "execution_count": null,
      "outputs": [
        {
          "output_type": "execute_result",
          "data": {
            "text/plain": [
              "0"
            ]
          },
          "metadata": {
            "tags": []
          },
          "execution_count": 4
        }
      ]
    },
    {
      "cell_type": "code",
      "metadata": {
        "colab": {
          "base_uri": "https://localhost:8080/"
        },
        "id": "2xKxx4vmqctE",
        "outputId": "8f8cce75-535a-4683-c9f4-f3b1aedcd11f"
      },
      "source": [
        "# Create a Vector\r\n",
        "vector = tf.constant([10,10])\r\n",
        "vector"
      ],
      "execution_count": null,
      "outputs": [
        {
          "output_type": "execute_result",
          "data": {
            "text/plain": [
              "<tf.Tensor: shape=(2,), dtype=int32, numpy=array([10, 10], dtype=int32)>"
            ]
          },
          "metadata": {
            "tags": []
          },
          "execution_count": 5
        }
      ]
    },
    {
      "cell_type": "code",
      "metadata": {
        "colab": {
          "base_uri": "https://localhost:8080/"
        },
        "id": "Bdnp9HHAqnFB",
        "outputId": "d0cd4122-fbd0-4de0-af1e-72e416327eb2"
      },
      "source": [
        "# Checking the Dimension of our Vector\r\n",
        "vector.ndim"
      ],
      "execution_count": null,
      "outputs": [
        {
          "output_type": "execute_result",
          "data": {
            "text/plain": [
              "1"
            ]
          },
          "metadata": {
            "tags": []
          },
          "execution_count": 6
        }
      ]
    },
    {
      "cell_type": "code",
      "metadata": {
        "colab": {
          "base_uri": "https://localhost:8080/"
        },
        "id": "5Ayu4TvXqqQg",
        "outputId": "af800f55-08c3-4e49-e341-e1e4d595ddc1"
      },
      "source": [
        "# Create a Matrix (has more than 1 dimension)\r\n",
        "matrix= tf.constant([[45,18],\r\n",
        "                     [75,35]])\r\n",
        "matrix"
      ],
      "execution_count": null,
      "outputs": [
        {
          "output_type": "execute_result",
          "data": {
            "text/plain": [
              "<tf.Tensor: shape=(2, 2), dtype=int32, numpy=\n",
              "array([[45, 18],\n",
              "       [75, 35]], dtype=int32)>"
            ]
          },
          "metadata": {
            "tags": []
          },
          "execution_count": 7
        }
      ]
    },
    {
      "cell_type": "code",
      "metadata": {
        "colab": {
          "base_uri": "https://localhost:8080/"
        },
        "id": "m0fEMiajrlZm",
        "outputId": "7d30ff9f-a6e9-4a36-fa01-00a7e6fefd1e"
      },
      "source": [
        "# Checking the Dimensions of matrix\r\n",
        "matrix.ndim"
      ],
      "execution_count": null,
      "outputs": [
        {
          "output_type": "execute_result",
          "data": {
            "text/plain": [
              "2"
            ]
          },
          "metadata": {
            "tags": []
          },
          "execution_count": 8
        }
      ]
    },
    {
      "cell_type": "code",
      "metadata": {
        "id": "ENHL7KXlr6EG"
      },
      "source": [
        ""
      ],
      "execution_count": null,
      "outputs": []
    }
  ]
}